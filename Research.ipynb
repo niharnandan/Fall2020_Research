{
 "cells": [
  {
   "cell_type": "code",
   "execution_count": 1,
   "metadata": {
    "ExecuteTime": {
     "end_time": "2020-10-22T06:24:14.255853Z",
     "start_time": "2020-10-22T06:24:08.591384Z"
    }
   },
   "outputs": [],
   "source": [
    "import numpy as np\n",
    "import pandas as pd\n",
    "import json"
   ]
  },
  {
   "cell_type": "code",
   "execution_count": 17,
   "metadata": {
    "ExecuteTime": {
     "end_time": "2020-10-22T06:37:59.374312Z",
     "start_time": "2020-10-22T06:37:58.988340Z"
    }
   },
   "outputs": [],
   "source": [
    "with open('./nightlight.json') as f:\n",
    "    data = json.load(f)\n",
    "df = pd.DataFrame(data)\n",
    "df = df.rename(columns={'key': 'state'})\n",
    "df.to_csv('NightLights.csv')"
   ]
  },
  {
   "cell_type": "code",
   "execution_count": 14,
   "metadata": {
    "ExecuteTime": {
     "end_time": "2020-10-22T06:36:24.774262Z",
     "start_time": "2020-10-22T06:36:24.759303Z"
    }
   },
   "outputs": [
    {
     "data": {
      "text/html": [
       "<div>\n",
       "<style scoped>\n",
       "    .dataframe tbody tr th:only-of-type {\n",
       "        vertical-align: middle;\n",
       "    }\n",
       "\n",
       "    .dataframe tbody tr th {\n",
       "        vertical-align: top;\n",
       "    }\n",
       "\n",
       "    .dataframe thead th {\n",
       "        text-align: right;\n",
       "    }\n",
       "</style>\n",
       "<table border=\"1\" class=\"dataframe\">\n",
       "  <thead>\n",
       "    <tr style=\"text-align: right;\">\n",
       "      <th></th>\n",
       "      <th>key</th>\n",
       "      <th>year</th>\n",
       "      <th>month</th>\n",
       "      <th>satellite</th>\n",
       "      <th>count</th>\n",
       "      <th>vis_median</th>\n",
       "    </tr>\n",
       "  </thead>\n",
       "  <tbody>\n",
       "    <tr>\n",
       "      <th>0</th>\n",
       "      <td>karnataka</td>\n",
       "      <td>1993</td>\n",
       "      <td>1</td>\n",
       "      <td>F10</td>\n",
       "      <td>487878</td>\n",
       "      <td>-0.5106</td>\n",
       "    </tr>\n",
       "    <tr>\n",
       "      <th>1</th>\n",
       "      <td>delhi</td>\n",
       "      <td>1993</td>\n",
       "      <td>1</td>\n",
       "      <td>F10</td>\n",
       "      <td>2977</td>\n",
       "      <td>14.4421</td>\n",
       "    </tr>\n",
       "    <tr>\n",
       "      <th>2</th>\n",
       "      <td>himachal-pradesh</td>\n",
       "      <td>1993</td>\n",
       "      <td>1</td>\n",
       "      <td>F10</td>\n",
       "      <td>363720</td>\n",
       "      <td>0.2410</td>\n",
       "    </tr>\n",
       "    <tr>\n",
       "      <th>3</th>\n",
       "      <td>gujarat</td>\n",
       "      <td>1993</td>\n",
       "      <td>1</td>\n",
       "      <td>F10</td>\n",
       "      <td>393956</td>\n",
       "      <td>-0.1771</td>\n",
       "    </tr>\n",
       "    <tr>\n",
       "      <th>4</th>\n",
       "      <td>kerala</td>\n",
       "      <td>1993</td>\n",
       "      <td>1</td>\n",
       "      <td>F10</td>\n",
       "      <td>23400</td>\n",
       "      <td>0.6627</td>\n",
       "    </tr>\n",
       "    <tr>\n",
       "      <th>5</th>\n",
       "      <td>tripura</td>\n",
       "      <td>1993</td>\n",
       "      <td>1</td>\n",
       "      <td>F10</td>\n",
       "      <td>19964</td>\n",
       "      <td>-0.6567</td>\n",
       "    </tr>\n",
       "    <tr>\n",
       "      <th>6</th>\n",
       "      <td>uttar-pradesh</td>\n",
       "      <td>1993</td>\n",
       "      <td>1</td>\n",
       "      <td>F10</td>\n",
       "      <td>2031872</td>\n",
       "      <td>-0.4713</td>\n",
       "    </tr>\n",
       "    <tr>\n",
       "      <th>7</th>\n",
       "      <td>haryana</td>\n",
       "      <td>1993</td>\n",
       "      <td>1</td>\n",
       "      <td>F10</td>\n",
       "      <td>127445</td>\n",
       "      <td>1.2410</td>\n",
       "    </tr>\n",
       "    <tr>\n",
       "      <th>8</th>\n",
       "      <td>maharashtra</td>\n",
       "      <td>1993</td>\n",
       "      <td>1</td>\n",
       "      <td>F10</td>\n",
       "      <td>884208</td>\n",
       "      <td>-0.2667</td>\n",
       "    </tr>\n",
       "    <tr>\n",
       "      <th>9</th>\n",
       "      <td>sikkim</td>\n",
       "      <td>1993</td>\n",
       "      <td>1</td>\n",
       "      <td>F10</td>\n",
       "      <td>10100</td>\n",
       "      <td>0.8229</td>\n",
       "    </tr>\n",
       "  </tbody>\n",
       "</table>\n",
       "</div>"
      ],
      "text/plain": [
       "                key  year  month satellite    count vis_median\n",
       "0         karnataka  1993      1       F10   487878    -0.5106\n",
       "1             delhi  1993      1       F10     2977    14.4421\n",
       "2  himachal-pradesh  1993      1       F10   363720     0.2410\n",
       "3           gujarat  1993      1       F10   393956    -0.1771\n",
       "4            kerala  1993      1       F10    23400     0.6627\n",
       "5           tripura  1993      1       F10    19964    -0.6567\n",
       "6     uttar-pradesh  1993      1       F10  2031872    -0.4713\n",
       "7           haryana  1993      1       F10   127445     1.2410\n",
       "8       maharashtra  1993      1       F10   884208    -0.2667\n",
       "9            sikkim  1993      1       F10    10100     0.8229"
      ]
     },
     "execution_count": 14,
     "metadata": {},
     "output_type": "execute_result"
    }
   ],
   "source": []
  },
  {
   "cell_type": "code",
   "execution_count": null,
   "metadata": {},
   "outputs": [],
   "source": []
  }
 ],
 "metadata": {
  "kernelspec": {
   "display_name": "Python 3",
   "language": "python",
   "name": "python3"
  },
  "language_info": {
   "codemirror_mode": {
    "name": "ipython",
    "version": 3
   },
   "file_extension": ".py",
   "mimetype": "text/x-python",
   "name": "python",
   "nbconvert_exporter": "python",
   "pygments_lexer": "ipython3",
   "version": "3.8.3"
  },
  "varInspector": {
   "cols": {
    "lenName": 16,
    "lenType": 16,
    "lenVar": 40
   },
   "kernels_config": {
    "python": {
     "delete_cmd_postfix": "",
     "delete_cmd_prefix": "del ",
     "library": "var_list.py",
     "varRefreshCmd": "print(var_dic_list())"
    },
    "r": {
     "delete_cmd_postfix": ") ",
     "delete_cmd_prefix": "rm(",
     "library": "var_list.r",
     "varRefreshCmd": "cat(var_dic_list()) "
    }
   },
   "types_to_exclude": [
    "module",
    "function",
    "builtin_function_or_method",
    "instance",
    "_Feature"
   ],
   "window_display": false
  }
 },
 "nbformat": 4,
 "nbformat_minor": 4
}
